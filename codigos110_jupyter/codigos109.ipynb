{
 "cells": [
  {
   "cell_type": "markdown",
   "id": "7adc480b",
   "metadata": {},
   "source": [
    "# Esse é meu título\n",
    "Essa linha cria a variável `a`.\n",
    "\n",
    "\n"
   ]
  },
  {
   "cell_type": "code",
   "execution_count": 8,
   "id": "55c00241",
   "metadata": {},
   "outputs": [],
   "source": [
    "a = 2"
   ]
  },
  {
   "cell_type": "markdown",
   "id": "3f675004",
   "metadata": {},
   "source": [
    "Essa linha tem o valor da variável `a` em dobro."
   ]
  },
  {
   "cell_type": "code",
   "execution_count": 9,
   "id": "17ec3027",
   "metadata": {},
   "outputs": [],
   "source": [
    "b = a * 2 "
   ]
  },
  {
   "cell_type": "markdown",
   "id": "91594c34",
   "metadata": {},
   "source": [
    "Essa linha mostra o valor de `a` `b`."
   ]
  },
  {
   "cell_type": "code",
   "execution_count": 11,
   "id": "ee7cc6e9",
   "metadata": {},
   "outputs": [
    {
     "data": {
      "text/plain": [
       "6"
      ]
     },
     "execution_count": 11,
     "metadata": {},
     "output_type": "execute_result"
    }
   ],
   "source": [
    "a+b"
   ]
  },
  {
   "cell_type": "code",
   "execution_count": null,
   "id": "5e2778ab",
   "metadata": {},
   "outputs": [],
   "source": [
    " "
   ]
  }
 ],
 "metadata": {
  "kernelspec": {
   "display_name": "venv",
   "language": "python",
   "name": "python3"
  },
  "language_info": {
   "codemirror_mode": {
    "name": "ipython",
    "version": 3
   },
   "file_extension": ".py",
   "mimetype": "text/x-python",
   "name": "python",
   "nbconvert_exporter": "python",
   "pygments_lexer": "ipython3",
   "version": "3.11.4"
  }
 },
 "nbformat": 4,
 "nbformat_minor": 5
}
